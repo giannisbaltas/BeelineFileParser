{
 "cells": [
  {
   "cell_type": "code",
   "execution_count": 1,
   "id": "c623390d",
   "metadata": {},
   "outputs": [],
   "source": [
    "import os, json"
   ]
  },
  {
   "cell_type": "code",
   "execution_count": 2,
   "id": "0ef59654",
   "metadata": {},
   "outputs": [],
   "source": [
    "flag = 'INFO  : ----------------------------------------------------------------------------------------------'"
   ]
  },
  {
   "cell_type": "code",
   "execution_count": 3,
   "id": "090ec162",
   "metadata": {},
   "outputs": [],
   "source": [
    "class TaskExecutionSummary:\n",
    "    \n",
    "    def __init__(self):\n",
    "        self.section_seperator = 0\n",
    "        self.task_exec_sum_dict = {}\n",
    "        self.nested_dict = {}\n",
    "        \n",
    "    def get_vertex_and_metric_details_for_dict(self, row):\n",
    "        # getting the whole row and returning a list generated with only usefull info\n",
    "        vertex_metric = row.split()\n",
    "        return vertex_metric[2:]\n",
    "    \n",
    "    def get_vertex_key(self,vertex_metric):\n",
    "        # getting the vertex_metric list and return the first two elements\n",
    "        # i.e getting ['Map', '1', '65013.00', '516,890', '7,624', '13,119,189', '1,200'] and returning 'Map 1' using join function\n",
    "        vertex_key = ' '.join(vertex_metric[0:2])\n",
    "        return vertex_key\n",
    "    \n",
    "    def get_metric_key(self, row):\n",
    "        #getting only duration cpu_time, gc_time, input_records and output_records as keys for the dictionary\n",
    "        vertex_metric = row.split()\n",
    "        return vertex_metric[3:]\n",
    "    \n",
    "    def get_metric_value(self, vertex_metric):\n",
    "        # getting the vertex_metric list and return the last five elements\n",
    "        return vertex_metric[2:]\n",
    "    \n",
    "    def more_vertices(self):\n",
    "        # returns true if self.flag <= 1 else returns false\n",
    "        return  self.section_seperator <= 1\n",
    "    \n",
    "    def read_next_row(self,input_file):\n",
    "        row = input_file.readline()\n",
    "        return row\n",
    "        \n",
    "    def create_output_file(self, input_file, row):\n",
    "            with open('Task_Execution_Summary.txt', 'w') as task_exec_sum_file:\n",
    "                \n",
    "                #get metric keys for nested dictionary\n",
    "                metric_keys = self.get_metric_key(row)\n",
    "                row = self.read_next_row(input_file)\n",
    "                \n",
    "                while self.more_vertices():\n",
    "                    \n",
    "                    if flag in row:\n",
    "                        self.section_seperator += 1\n",
    "                    else:\n",
    "                        # get the list with vertex key and metric values\n",
    "                        vertex_metric = self.get_vertex_and_metric_details_for_dict(row)\n",
    "                        # get vertex key for the dictionary\n",
    "                        vertex_key = self.get_vertex_key(vertex_metric)\n",
    "                        # get metric values for nested dictionary\n",
    "                        metric_values = self.get_metric_value(vertex_metric)\n",
    "                        # set the nested dictionary\n",
    "                        for i in range(len(metric_keys)):\n",
    "                            self.nested_dict[metric_keys[i]] = metric_values[i]\n",
    "                        self.task_exec_sum_dict[vertex_key] = self.nested_dict\n",
    "     \n",
    "                    row = self.read_next_row(input_file)\n",
    "                json.dump(self.task_exec_sum_dict, task_exec_sum_file, indent=4)\n",
    "            task_exec_sum_file.close()"
   ]
  },
  {
   "cell_type": "code",
   "execution_count": null,
   "id": "472f29d6",
   "metadata": {},
   "outputs": [],
   "source": []
  }
 ],
 "metadata": {
  "kernelspec": {
   "display_name": "Python 3 (ipykernel)",
   "language": "python",
   "name": "python3"
  },
  "language_info": {
   "codemirror_mode": {
    "name": "ipython",
    "version": 3
   },
   "file_extension": ".py",
   "mimetype": "text/x-python",
   "name": "python",
   "nbconvert_exporter": "python",
   "pygments_lexer": "ipython3",
   "version": "3.8.12"
  }
 },
 "nbformat": 4,
 "nbformat_minor": 5
}
