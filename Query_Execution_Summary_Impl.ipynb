{
 "cells": [
  {
   "cell_type": "code",
   "execution_count": 1,
   "id": "db4112ae",
   "metadata": {},
   "outputs": [],
   "source": [
    "import os, json"
   ]
  },
  {
   "cell_type": "code",
   "execution_count": 2,
   "id": "c4b1c000",
   "metadata": {},
   "outputs": [],
   "source": [
    "flag = 'INFO  : ----------------------------------------------------------------------------------------------'"
   ]
  },
  {
   "cell_type": "code",
   "execution_count": 3,
   "id": "8a070d65",
   "metadata": {},
   "outputs": [],
   "source": [
    "class QueryExecutionSummary:\n",
    "    \n",
    "    def __init__(self):\n",
    "        self.section_seperator = 0\n",
    "        self.query_exec_sum_dict = {}\n",
    "\n",
    "    def get_metric_details_for_dict(self, row):\n",
    "        \"\"\"\n",
    "        returns keys and values from metrics while\n",
    "        keys are the values under the Operations column \n",
    "        and values the ones under the Duration column\n",
    "        \"\"\"\n",
    "        metric = row.split()\n",
    "        key = ' '.join(metric[2:len(metric)-1])\n",
    "        value = metric[len(metric)-1]\n",
    "        return key, value\n",
    "    \n",
    "    def more_metrics(self):\n",
    "        # returns true if self.flag <= 1 else returns false\n",
    "        return  self.section_seperator <= 1\n",
    "    \n",
    "    def read_next_row(self,input_file):\n",
    "        row = input_file.readline()\n",
    "        return row\n",
    "        \n",
    "    def create_output_file(self, input_file):\n",
    "            with open('Query_Execution_Summary.txt', 'w') as query_exec_sum_file:\n",
    "                \n",
    "                row = self.read_next_row(input_file)\n",
    "                \n",
    "                while self.more_metrics():\n",
    "                    if flag in row:\n",
    "                        self.section_seperator += 1\n",
    "                    else:\n",
    "                        key, value = self.get_metric_details_for_dict(row)\n",
    "                        self.query_exec_sum_dict[key] = value\n",
    "                        \n",
    "                    row = self.read_next_row(input_file)\n",
    "                json.dump(self.query_exec_sum_dict, query_exec_sum_file, indent=4)\n",
    "            query_exec_sum_file.close()"
   ]
  },
  {
   "cell_type": "code",
   "execution_count": null,
   "id": "5f5c4d45",
   "metadata": {},
   "outputs": [],
   "source": []
  }
 ],
 "metadata": {
  "kernelspec": {
   "display_name": "Python 3 (ipykernel)",
   "language": "python",
   "name": "python3"
  },
  "language_info": {
   "codemirror_mode": {
    "name": "ipython",
    "version": 3
   },
   "file_extension": ".py",
   "mimetype": "text/x-python",
   "name": "python",
   "nbconvert_exporter": "python",
   "pygments_lexer": "ipython3",
   "version": "3.8.12"
  }
 },
 "nbformat": 4,
 "nbformat_minor": 5
}
