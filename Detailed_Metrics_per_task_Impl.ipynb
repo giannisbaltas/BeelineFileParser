{
 "cells": [
  {
   "cell_type": "code",
   "execution_count": 1,
   "id": "06e6c399",
   "metadata": {},
   "outputs": [],
   "source": [
    "import os, json"
   ]
  },
  {
   "cell_type": "code",
   "execution_count": 2,
   "id": "0958e2ed",
   "metadata": {},
   "outputs": [],
   "source": [
    "class DetailedMetrics:\n",
    "    \n",
    "    def __init__(self):\n",
    "        self.detailed_metrics_dict = {}\n",
    "        self.nested_dict = {}\n",
    "    \n",
    "    def get_main_key(self,row):\n",
    "        # returns the main dictionary key\n",
    "        key_ = row.split()\n",
    "        key = ' '.join(key_[2:3])\n",
    "        return key\n",
    "    \n",
    "    def get_metric_key_and_value(self, row):\n",
    "        # returns the nested dictionary keys and values\n",
    "        key_value = row.split()\n",
    "        key = ' '.join(key_value[2:3])\n",
    "        value = ' '.join(key_value[3:4])\n",
    "        return key, value\n",
    "    \n",
    "    def read_next_row(self,input_file):\n",
    "        row = input_file.readline()\n",
    "        return row\n",
    "        \n",
    "    def create_output_file(self, input_file, row):\n",
    "        \n",
    "            with open('Detailed_Metrics_per_task.txt', 'w') as detailed_metrics_file:\n",
    "                \n",
    "                # getting main dictionary key\n",
    "                main_key = self.get_main_key(row)\n",
    "                \n",
    "                while 'OK' not in main_key:\n",
    "                    row = self.read_next_row(input_file)\n",
    "                    while ':    ' in row:\n",
    "                        # getting nested dictionary key and value\n",
    "                        metric_key, metric_value = self.get_metric_key_and_value(row)\n",
    "                        # set the nested dictionary\n",
    "                        self.nested_dict[metric_key] = metric_value\n",
    "                        self.detailed_metrics_dict[main_key] = self.nested_dict\n",
    "                        row = self.read_next_row(input_file)\n",
    "                        \n",
    "                    main_key = self.get_main_key(row)\n",
    "                # write dictionary to output file\n",
    "                json.dump(self.detailed_metrics_dict, detailed_metrics_file, indent=4)\n",
    "                    \n",
    "                    \n",
    "            detailed_metrics_file.close()"
   ]
  },
  {
   "cell_type": "code",
   "execution_count": null,
   "id": "8f7b1878",
   "metadata": {},
   "outputs": [],
   "source": []
  }
 ],
 "metadata": {
  "kernelspec": {
   "display_name": "Python 3 (ipykernel)",
   "language": "python",
   "name": "python3"
  },
  "language_info": {
   "codemirror_mode": {
    "name": "ipython",
    "version": 3
   },
   "file_extension": ".py",
   "mimetype": "text/x-python",
   "name": "python",
   "nbconvert_exporter": "python",
   "pygments_lexer": "ipython3",
   "version": "3.8.12"
  }
 },
 "nbformat": 4,
 "nbformat_minor": 5
}
