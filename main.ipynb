{
 "cells": [
  {
   "cell_type": "code",
   "execution_count": 3,
   "id": "61840adf",
   "metadata": {
    "scrolled": true
   },
   "outputs": [
    {
     "name": "stdout",
     "output_type": "stream",
     "text": [
      "Collecting import-ipynb\n",
      "  Downloading import_ipynb-0.1.4-py3-none-any.whl (4.1 kB)\n",
      "Requirement already satisfied: IPython in /home/cleaver/anaconda3/lib/python3.8/site-packages (from import-ipynb) (7.29.0)\n",
      "Requirement already satisfied: nbformat in /home/cleaver/anaconda3/lib/python3.8/site-packages (from import-ipynb) (5.1.3)\n",
      "Requirement already satisfied: decorator in /home/cleaver/anaconda3/lib/python3.8/site-packages (from IPython->import-ipynb) (5.1.0)\n",
      "Requirement already satisfied: setuptools>=18.5 in /home/cleaver/anaconda3/lib/python3.8/site-packages (from IPython->import-ipynb) (58.0.4)\n",
      "Requirement already satisfied: matplotlib-inline in /home/cleaver/anaconda3/lib/python3.8/site-packages (from IPython->import-ipynb) (0.1.2)\n",
      "Requirement already satisfied: jedi>=0.16 in /home/cleaver/anaconda3/lib/python3.8/site-packages (from IPython->import-ipynb) (0.17.2)\n",
      "Requirement already satisfied: backcall in /home/cleaver/anaconda3/lib/python3.8/site-packages (from IPython->import-ipynb) (0.2.0)\n",
      "Requirement already satisfied: traitlets>=4.2 in /home/cleaver/anaconda3/lib/python3.8/site-packages (from IPython->import-ipynb) (5.1.0)\n",
      "Requirement already satisfied: pickleshare in /home/cleaver/anaconda3/lib/python3.8/site-packages (from IPython->import-ipynb) (0.7.5)\n",
      "Requirement already satisfied: pygments in /home/cleaver/anaconda3/lib/python3.8/site-packages (from IPython->import-ipynb) (2.10.0)\n",
      "Requirement already satisfied: prompt-toolkit!=3.0.0,!=3.0.1,<3.1.0,>=2.0.0 in /home/cleaver/anaconda3/lib/python3.8/site-packages (from IPython->import-ipynb) (3.0.20)\n",
      "Requirement already satisfied: pexpect>4.3 in /home/cleaver/anaconda3/lib/python3.8/site-packages (from IPython->import-ipynb) (4.8.0)\n",
      "Requirement already satisfied: parso<0.8.0,>=0.7.0 in /home/cleaver/anaconda3/lib/python3.8/site-packages (from jedi>=0.16->IPython->import-ipynb) (0.7.0)\n",
      "Requirement already satisfied: ptyprocess>=0.5 in /home/cleaver/anaconda3/lib/python3.8/site-packages (from pexpect>4.3->IPython->import-ipynb) (0.7.0)\n",
      "Requirement already satisfied: wcwidth in /home/cleaver/anaconda3/lib/python3.8/site-packages (from prompt-toolkit!=3.0.0,!=3.0.1,<3.1.0,>=2.0.0->IPython->import-ipynb) (0.2.5)\n",
      "Requirement already satisfied: jupyter-core in /home/cleaver/anaconda3/lib/python3.8/site-packages (from nbformat->import-ipynb) (4.8.1)\n",
      "Requirement already satisfied: ipython-genutils in /home/cleaver/anaconda3/lib/python3.8/site-packages (from nbformat->import-ipynb) (0.2.0)\n",
      "Requirement already satisfied: jsonschema!=2.5.0,>=2.4 in /home/cleaver/anaconda3/lib/python3.8/site-packages (from nbformat->import-ipynb) (3.2.0)\n",
      "Requirement already satisfied: six>=1.11.0 in /home/cleaver/anaconda3/lib/python3.8/site-packages (from jsonschema!=2.5.0,>=2.4->nbformat->import-ipynb) (1.16.0)\n",
      "Requirement already satisfied: pyrsistent>=0.14.0 in /home/cleaver/anaconda3/lib/python3.8/site-packages (from jsonschema!=2.5.0,>=2.4->nbformat->import-ipynb) (0.17.3)\n",
      "Requirement already satisfied: attrs>=17.4.0 in /home/cleaver/anaconda3/lib/python3.8/site-packages (from jsonschema!=2.5.0,>=2.4->nbformat->import-ipynb) (21.2.0)\n",
      "Installing collected packages: import-ipynb\n",
      "Successfully installed import-ipynb-0.1.4\n",
      "Note: you may need to restart the kernel to use updated packages.\n"
     ]
    }
   ],
   "source": [
    "pip install import-ipynb"
   ]
  },
  {
   "cell_type": "code",
   "execution_count": 1,
   "id": "d838c2fa",
   "metadata": {},
   "outputs": [],
   "source": [
    "import import_ipynb, os, sys"
   ]
  },
  {
   "cell_type": "code",
   "execution_count": 2,
   "id": "6ad056a5",
   "metadata": {},
   "outputs": [
    {
     "name": "stdout",
     "output_type": "stream",
     "text": [
      "importing Jupyter notebook from Query_Execution_Summary_Impl.ipynb\n"
     ]
    }
   ],
   "source": [
    "from Query_Execution_Summary_Impl import QueryExecutionSummary"
   ]
  },
  {
   "cell_type": "code",
   "execution_count": 3,
   "id": "88c26fc3",
   "metadata": {},
   "outputs": [
    {
     "name": "stdout",
     "output_type": "stream",
     "text": [
      "importing Jupyter notebook from Task_Execution_Summary_Impl.ipynb\n"
     ]
    }
   ],
   "source": [
    "from Task_Execution_Summary_Impl import TaskExecutionSummary"
   ]
  },
  {
   "cell_type": "code",
   "execution_count": 4,
   "id": "52fce8f1",
   "metadata": {},
   "outputs": [
    {
     "name": "stdout",
     "output_type": "stream",
     "text": [
      "importing Jupyter notebook from Detailed_Metrics_per_task_Impl.ipynb\n"
     ]
    }
   ],
   "source": [
    "from Detailed_Metrics_per_task_Impl import DetailedMetrics"
   ]
  },
  {
   "cell_type": "code",
   "execution_count": 5,
   "id": "539e587d",
   "metadata": {},
   "outputs": [],
   "source": [
    "def main():\n",
    "    with open('beeline_consent_query_stderr.txt','r') as input_file:\n",
    "        row = input_file.readline()\n",
    "        while row != '':\n",
    "            if 'OPERATION' in row:\n",
    "                query_exec_sum = QueryExecutionSummary()\n",
    "                query_exec_sum.create_output_file(input_file)\n",
    "            elif 'VERTICES' in row:\n",
    "                task_exec_sum = TaskExecutionSummary()\n",
    "                task_exec_sum.create_output_file(input_file, row)\n",
    "            if 'org.apache.tez.common.counters.DAGCounter' in row:\n",
    "                detailed_metrics = DetailedMetrics()\n",
    "                detailed_metrics.create_output_file(input_file, row)\n",
    "                \n",
    "            row = input_file.readline()"
   ]
  },
  {
   "cell_type": "code",
   "execution_count": 6,
   "id": "3fd4e295",
   "metadata": {
    "scrolled": false
   },
   "outputs": [],
   "source": [
    "if __name__ == '__main__':\n",
    "    main()"
   ]
  },
  {
   "cell_type": "code",
   "execution_count": null,
   "id": "36df89f5",
   "metadata": {},
   "outputs": [],
   "source": []
  }
 ],
 "metadata": {
  "kernelspec": {
   "display_name": "Python 3 (ipykernel)",
   "language": "python",
   "name": "python3"
  },
  "language_info": {
   "codemirror_mode": {
    "name": "ipython",
    "version": 3
   },
   "file_extension": ".py",
   "mimetype": "text/x-python",
   "name": "python",
   "nbconvert_exporter": "python",
   "pygments_lexer": "ipython3",
   "version": "3.8.12"
  }
 },
 "nbformat": 4,
 "nbformat_minor": 5
}
